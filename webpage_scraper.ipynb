{
 "cells": [
  {
   "cell_type": "code",
   "execution_count": null,
   "metadata": {},
   "outputs": [],
   "source": [
    "import requests  \n",
    "from bs4 import BeautifulSoup \n",
    "import pandas as pd"
   ]
  },
  {
   "cell_type": "code",
   "execution_count": null,
   "metadata": {},
   "outputs": [],
   "source": [
    "url = 'https://www.internetlivestats.com/total-number-of-websites/'"
   ]
  },
  {
   "cell_type": "code",
   "execution_count": null,
   "metadata": {},
   "outputs": [],
   "source": [
    "s = requests.Session()\n",
    "response = s.get(url, timeout=10)\n",
    "#response2 = s.get(url2, timeout=5)\n",
    "response"
   ]
  },
  {
   "cell_type": "code",
   "execution_count": null,
   "metadata": {},
   "outputs": [],
   "source": [
    "soup = BeautifulSoup(response.content, 'html.parser')\n",
    "pretty_soup = soup.prettify()"
   ]
  },
  {
   "cell_type": "code",
   "execution_count": null,
   "metadata": {},
   "outputs": [],
   "source": [
    "from flask import Flask, render_template\n",
    "import pandas as pd\n",
    "import json\n",
    "import plotly\n",
    "import plotly.express as px\n",
    "\n",
    "app = Flask(__name__)\n",
    "\n",
    "@app.route('/')\n",
    "def index():\n",
    "    return render_template('index.html')\n",
    "\n",
    "@app.route('/chart1')\n",
    "def chart1():\n",
    "    df = pd.DataFrame({\n",
    "        \"Fruit\": [\"Apples\", \"Oranges\", \"Bananas\", \"Apples\", \"Oranges\", \"Bananas\"],\n",
    "        \"Amount\": [4, 1, 2, 2, 4, 5],\n",
    "        \"City\": [\"SF\", \"SF\", \"SF\", \"Montreal\", \"Montreal\", \"Montreal\"]\n",
    "    })\n",
    "\n",
    "    fig = px.bar(df, x=\"Fruit\", y=\"Amount\", color=\"City\", barmode=\"group\")\n",
    "\n",
    "    graphJSON = json.dumps(fig, cls=plotly.utils.PlotlyJSONEncoder)\n",
    "    header=\"Fruit in North America\"\n",
    "    description = \"\"\"\n",
    "    A academic study of the number of apples, oranges and bananas in the cities of\n",
    "    San Francisco and Montreal would probably not come up with this chart.\n",
    "    \"\"\"\n",
    "    return render_template('notdash2.html', graphJSON=graphJSON, header=header,description=description)\n",
    "\n",
    "@app.route('/chart2')\n",
    "def chart2():\n",
    "    df = pd.DataFrame({\n",
    "        \"Vegetables\": [\"Lettuce\", \"Cauliflower\", \"Carrots\", \"Lettuce\", \"Cauliflower\", \"Carrots\"],\n",
    "        \"Amount\": [10, 15, 8, 5, 14, 25],\n",
    "        \"City\": [\"London\", \"London\", \"London\", \"Madrid\", \"Madrid\", \"Madrid\"]\n",
    "    })\n",
    "\n",
    "    fig = px.bar(df, x=\"Vegetables\", y=\"Amount\", color=\"City\", barmode=\"stack\")\n",
    "\n",
    "    graphJSON = json.dumps(fig, cls=plotly.utils.PlotlyJSONEncoder)\n",
    "    header=\"Vegetables in Europe\"\n",
    "    description = \"\"\"\n",
    "    The rumor that vegetarians are having a hard time in London and Madrid can probably not be\n",
    "    explained by this chart.\n",
    "    \"\"\"\n",
    "    return render_template('notdash2.html', graphJSON=graphJSON, header=header,description=description)"
   ]
  }
 ],
 "metadata": {
  "language_info": {
   "name": "python"
  },
  "orig_nbformat": 4
 },
 "nbformat": 4,
 "nbformat_minor": 2
}
